{
 "cells": [
  {
   "cell_type": "code",
   "execution_count": 121,
   "metadata": {},
   "outputs": [
    {
     "name": "stdout",
     "output_type": "stream",
     "text": [
      "[[ 1  2  3  4  5  6]\n",
      " [ 7  8  9 10 11 12]]\n",
      "[0 1 2 3]\n",
      "[ True  True  True False]\n",
      "[[0. 0. 0. 0. 0. 0. 0.]\n",
      " [0. 0. 0. 0. 0. 0. 0.]\n",
      " [0. 0. 0. 0. 0. 0. 0.]\n",
      " [0. 0. 0. 0. 0. 0. 0.]\n",
      " [0. 0. 0. 0. 0. 0. 0.]]\n"
     ]
    }
   ],
   "source": [
    "import numpy as np\n",
    "from matplotlib import pyplot as plt \n",
    "a = np.array([[1,2,3,4,5,6],[7,8,9,10,11,12]])#np array\n",
    "b = np.arange(4) #creat 0-4 array\n",
    "c = np.zeros((5,7))# 5row 7col zero martix\n",
    "print(a)\n",
    "print(b)\n",
    "print(b<=2)\n",
    "print(c)"
   ]
  },
  {
   "cell_type": "code",
   "execution_count": 122,
   "metadata": {},
   "outputs": [
    {
     "name": "stdout",
     "output_type": "stream",
     "text": [
      "[[0 1]\n",
      " [2 3]]\n"
     ]
    }
   ],
   "source": [
    "b = b.reshape(2,2)# reshape 2 col 2 row\n",
    "print(b)"
   ]
  },
  {
   "cell_type": "code",
   "execution_count": 123,
   "metadata": {},
   "outputs": [
    {
     "name": "stdout",
     "output_type": "stream",
     "text": [
      "[[198 329]\n",
      " [154 254]\n",
      " [ 40  72]]\n",
      "[[198 329]\n",
      " [154 254]\n",
      " [ 40  72]]\n"
     ]
    }
   ],
   "source": [
    "a = np.array([[32,99],[23,77],[12,20]])\n",
    "c = np.dot(a,b)#dot product\n",
    "c_2 = a.dot(b)\n",
    "print(c)\n",
    "print(c_2)"
   ]
  },
  {
   "cell_type": "code",
   "execution_count": 124,
   "metadata": {
    "scrolled": true
   },
   "outputs": [
    {
     "name": "stdout",
     "output_type": "stream",
     "text": [
      "[[0.63261625 0.41697791 0.50881854 0.61037139]\n",
      " [0.45816208 0.90747231 0.81509723 0.79413896]]\n",
      "5.143654675336126\n",
      "0.9074723112854812\n",
      "0.416977914158132\n"
     ]
    }
   ],
   "source": [
    "a = np.random.random((2,4))# random array 2 raw 4 col\n",
    "print(a)\n",
    "print(np.sum(a))\n",
    "print(np.max(a))\n",
    "print(np.min(a))"
   ]
  },
  {
   "cell_type": "code",
   "execution_count": 125,
   "metadata": {
    "scrolled": true
   },
   "outputs": [
    {
     "name": "stdout",
     "output_type": "stream",
     "text": [
      "[[0.68720618 0.38093594 0.05023709 0.62500435]\n",
      " [0.95965036 0.69335375 0.96702767 0.244304  ]\n",
      " [0.73946418 0.46340468 0.03929843 0.97249464]]\n",
      "[0 0 2 1]\n",
      "[0 2 3]\n",
      "[[0.05023709 0.38093594 0.62500435 0.68720618]\n",
      " [0.244304   0.69335375 0.95965036 0.96702767]\n",
      " [0.03929843 0.46340468 0.73946418 0.97249464]]\n",
      "[[0.68720618 0.95965036 0.73946418]\n",
      " [0.38093594 0.69335375 0.46340468]\n",
      " [0.05023709 0.96702767 0.03929843]\n",
      " [0.62500435 0.244304   0.97249464]]\n",
      "[0.68720618 1.06814213 1.11837921 1.74338357 2.70303393 3.39638768\n",
      " 4.36341535 4.60771934 5.34718352 5.8105882  5.84988663 6.82238126]\n",
      "[[-0.30627024 -0.33069886  0.57476727]\n",
      " [-0.26629661  0.27367391 -0.72272367]\n",
      " [-0.2760595  -0.42410625  0.93319621]]\n",
      "[[0.5        0.38093594 0.2        0.5       ]\n",
      " [0.5        0.5        0.5        0.244304  ]\n",
      " [0.5        0.46340468 0.2        0.5       ]]\n"
     ]
    }
   ],
   "source": [
    "# numpy的索引和运算\n",
    "a = np.random.random((3,4))\n",
    "print(a)\n",
    "print(np.argmin(a,axis = 0))#每一列最小值的索引\n",
    "print(np.argmax(a,axis = 1))#每一行最大值的索引\n",
    "print(np.sort(a))\n",
    "print(np.transpose(a))#T\n",
    "print(np.cumsum(a))#累加\n",
    "print(np.diff(a))#差\n",
    "print(np.clip(a,0.2,0.5))#截取片段，0.2<x<0.5，如果大于0.5，则等于0.5。如果小于0.2，则等于0.2"
   ]
  },
  {
   "cell_type": "code",
   "execution_count": 126,
   "metadata": {},
   "outputs": [
    {
     "name": "stdout",
     "output_type": "stream",
     "text": [
      "[1 1 1]\n",
      "[2 2 2]\n",
      "[[1 1 1]\n",
      " [2 2 2]]\n",
      "[[1]\n",
      " [1]\n",
      " [1]]\n",
      "(3,)\n",
      "[[1 2]\n",
      " [1 2]\n",
      " [1 2]]\n",
      "[[1 2 2 1]\n",
      " [1 2 2 1]\n",
      " [1 2 2 1]]\n"
     ]
    }
   ],
   "source": [
    "#numpy array的合并\n",
    "\n",
    "a = np.array([1,1,1])\n",
    "b = np.array([2,2,2])\n",
    "print(a)\n",
    "print(b)\n",
    "print(np.vstack((a,b))) # vertical stack\n",
    "\n",
    "#a变成纵向列表\n",
    "#print(a[np.newaxis,:]) 在行上加维度\n",
    "print(a[:,np.newaxis]) #在列上加维度\n",
    "print(a.shape)\n",
    "\n",
    "#a,b变为纵向列表\n",
    "a = np.array([1,1,1])[:,np.newaxis]\n",
    "b = np.array([2,2,2])[:,np.newaxis]\n",
    "c = np.concatenate((a,b,b,a),axis=1)#多重合并，axis=0为vertical axis=1为horizontal\n",
    "print(np.hstack((a,b))) # horizontal stack\n",
    "print(c)\n"
   ]
  },
  {
   "cell_type": "code",
   "execution_count": 127,
   "metadata": {},
   "outputs": [
    {
     "name": "stdout",
     "output_type": "stream",
     "text": [
      "[[ 0  1  2  3]\n",
      " [ 4  5  6  7]\n",
      " [ 8  9 10 11]]\n",
      "[array([[0, 1, 2, 3]]), array([[4, 5, 6, 7]]), array([[ 8,  9, 10, 11]])]\n",
      "[array([[0],\n",
      "       [4],\n",
      "       [8]]), array([[1],\n",
      "       [5],\n",
      "       [9]]), array([[ 2],\n",
      "       [ 6],\n",
      "       [10]]), array([[ 3],\n",
      "       [ 7],\n",
      "       [11]])]\n",
      "[array([[0, 1],\n",
      "       [4, 5],\n",
      "       [8, 9]]), array([[ 2,  3],\n",
      "       [ 6,  7],\n",
      "       [10, 11]])]\n"
     ]
    }
   ],
   "source": [
    "#numpy array的分割\n",
    "a = np.arange(12)\n",
    "a = a.reshape((3,4))\n",
    "print(a)\n",
    "#横向分割\n",
    "print(np.split(a,3,axis=0))#axis=0 对row进行操作\n",
    "#纵向分割\n",
    "print(np.split(a,4,axis=1))#axis=1 对col进行操作，分成4份\n",
    "print(np.split(a,2,axis=1))#分成2份"
   ]
  },
  {
   "cell_type": "code",
   "execution_count": 128,
   "metadata": {},
   "outputs": [
    {
     "name": "stdout",
     "output_type": "stream",
     "text": [
      "int64\n",
      "float64\n",
      "|S4\n",
      "[ 1.1 -9.6  7. ]\n",
      "float64\n",
      "int64\n"
     ]
    }
   ],
   "source": [
    "# array data type转换\n",
    "a = np.arange(4)\n",
    "print(a.dtype)\n",
    "float_a = a.astype(np.float64)\n",
    "print(float_a.dtype)\n",
    "#字符串转float或者int\n",
    "string=np.array(['1.1','-9.6','7'],dtype=np.string_)\n",
    "print(string.dtype)\n",
    "string_float = string.astype(np.float64)\n",
    "print(string_float)\n",
    "print(string_float.dtype) # string不能直接转船int，先转换float 再int\n",
    "string_int = string_float.astype(np.int)\n",
    "print(string_int.dtype)\n"
   ]
  },
  {
   "cell_type": "code",
   "execution_count": 129,
   "metadata": {},
   "outputs": [
    {
     "name": "stdout",
     "output_type": "stream",
     "text": [
      "[0 1 2 3 4 5 6 7 8 9]\n",
      "[12 12 12 12]\n",
      "[    12 121212     12     12]\n",
      "[     0      1      2      3     12 121212     12     12      8      9]\n",
      "[[1 2 3]\n",
      " [4 5 6]\n",
      " [7 8 9]]\n",
      "[7 8 9]\n",
      "7\n",
      "7\n",
      "[[[ 1  2  3]\n",
      "  [ 4  5  6]]\n",
      "\n",
      " [[ 7  8  9]\n",
      "  [10 11 12]]]\n",
      "[[1 2 3]\n",
      " [4 5 6]]\n",
      "[[ 2  4  6]\n",
      " [ 8 10 12]]\n",
      "[[[ 2  4  6]\n",
      "  [ 8 10 12]]\n",
      "\n",
      " [[ 7  8  9]\n",
      "  [10 11 12]]]\n",
      "10\n"
     ]
    }
   ],
   "source": [
    "#array切片\n",
    "a = np.arange(10)\n",
    "print(a)\n",
    "a[4:8] = 12 #第4-8个元素赋值12\n",
    "#提取第4-8个元素\n",
    "a_slice = a[4:8]\n",
    "print(a_slice)\n",
    "a_slice[1] = 121212\n",
    "print(a_slice)\n",
    "print(a) #?????为什么a_slice会直接赋值给a\n",
    "\n",
    "#2d提取\n",
    "b = np.array([[1,2,3],[4,5,6],[7,8,9]])#2d array\n",
    "print(b)\n",
    "print(b[2])\n",
    "print(b[2][0])#b第三行的第一列元素\n",
    "print(b[2,0])#同上\n",
    "\n",
    "a_3d = np.array([[[1,2,3],[4,5,6]],[[7,8,9],[10,11,12]]])#3d array 2x2x3\n",
    "print(a_3d)\n",
    "print(a_3d[0])#一个2x3的matrix\n",
    "k = (a_3d[0]*2).copy()\n",
    "a_3d[0] = k #替换a_3d第一个元素成k\n",
    "print(k)\n",
    "print(a_3d)\n",
    "print(a_3d[0,1,1])#从3d matrix提取单个元素"
   ]
  },
  {
   "cell_type": "code",
   "execution_count": 130,
   "metadata": {},
   "outputs": [
    {
     "name": "stdout",
     "output_type": "stream",
     "text": [
      "[[1 2 3]\n",
      " [4 5 6]]\n",
      "[[1]\n",
      " [4]]\n",
      "[[2 3]\n",
      " [5 6]]\n",
      "[[2 3]\n",
      " [5 6]\n",
      " [8 9]]\n",
      "[[0.11910202 0.07706152 0.81283717 0.98388262]\n",
      " [0.29907124 0.73641334 0.61482818 0.70084986]\n",
      " [0.10204433 0.79312652 0.50055289 0.10564125]\n",
      " [0.90797958 0.65890874 0.06483621 0.36652233]\n",
      " [0.67053809 0.60425979 0.28428349 0.32654027]\n",
      " [0.66755963 0.01902619 0.74049894 0.05876903]\n",
      " [0.13314078 0.6279655  0.28560593 0.91480548]]\n",
      "[ True False False  True False False False]\n",
      "[[0.11910202 0.07706152 0.81283717 0.98388262]\n",
      " [0.90797958 0.65890874 0.06483621 0.36652233]]\n",
      "[[0.81283717 0.98388262]\n",
      " [0.06483621 0.36652233]]\n",
      "[False  True  True False  True  True  True]\n",
      "[ True False  True  True False False  True]\n",
      "[[0.11910202 0.07706152 0.81283717 0.98388262]\n",
      " [0.10204433 0.79312652 0.50055289 0.10564125]\n",
      " [0.90797958 0.65890874 0.06483621 0.36652233]\n",
      " [0.13314078 0.6279655  0.28560593 0.91480548]]\n",
      "[[0.         0.         0.         0.        ]\n",
      " [0.29907124 0.73641334 0.61482818 0.70084986]\n",
      " [0.         0.         0.         0.        ]\n",
      " [0.         0.         0.         0.        ]\n",
      " [0.67053809 0.60425979 0.28428349 0.32654027]\n",
      " [0.66755963 0.01902619 0.74049894 0.05876903]\n",
      " [0.         0.         0.         0.        ]]\n"
     ]
    }
   ],
   "source": [
    "#array索引\n",
    "a = np.array([[1,2,3],[4,5,6],[7,8,9]])#2d array\n",
    "print(a[:2]) #提取0，1个元素，不包括2\n",
    "print(a[:2,:1])#提取0，1元素中的第0个数值（不包括1）\n",
    "print(a[:2,1:])#提取0，1元素中的第2个数值开始的所有数值\n",
    "print(a[:,1:])#只有：代表取整个轴\n",
    "\n",
    "names = np.array(['Bob','Joe','Will','Bob','Joe','Joe','Will'])\n",
    "data = np.random.random((7,4))\n",
    "print(data)\n",
    "print(names=='Bob')\n",
    "print(data[names == 'Bob'])#选中bob对应的所有数据\n",
    "print(data[names == 'Bob',2:])#选中bob对应的数据中第2个后所有数据\n",
    "print(names!='Bob')#除了bob，其他人的数据\n",
    "names2 = (names=='Bob') | (names=='Will')#选中bob和will\n",
    "print(names2)\n",
    "print(data[names2])\n",
    "data[names!='Joe']=0 #塞选出仅joe的data，除了joe的data 其他全部设置为0\n",
    "print(data)"
   ]
  },
  {
   "cell_type": "code",
   "execution_count": 155,
   "metadata": {},
   "outputs": [
    {
     "name": "stdout",
     "output_type": "stream",
     "text": [
      "[[0. 0. 0. 0.]\n",
      " [1. 1. 1. 1.]\n",
      " [2. 2. 2. 2.]\n",
      " [3. 3. 3. 3.]\n",
      " [4. 4. 4. 4.]\n",
      " [5. 5. 5. 5.]\n",
      " [6. 6. 6. 6.]\n",
      " [7. 7. 7. 7.]]\n",
      "[[4. 4. 4. 4.]\n",
      " [2. 2. 2. 2.]\n",
      " [7. 7. 7. 7.]\n",
      " [1. 1. 1. 1.]]\n",
      "[[7. 7. 7. 7.]\n",
      " [6. 6. 6. 6.]\n",
      " [5. 5. 5. 5.]]\n",
      "[[ 0  1  2  3]\n",
      " [ 4  5  6  7]\n",
      " [ 8  9 10 11]\n",
      " [12 13 14 15]\n",
      " [16 17 18 19]\n",
      " [20 21 22 23]\n",
      " [24 25 26 27]\n",
      " [28 29 30 31]]\n",
      "[ 4 13 22 31]\n",
      "[[ 7  6  5  4]\n",
      " [11 10  9  8]\n",
      " [15 14 13 12]\n",
      " [19 18 17 16]]\n"
     ]
    }
   ],
   "source": [
    "#Fancy Indexing\n",
    "a = np.zeros((8,4))\n",
    "for i in range(8):\n",
    "    a[i] = i\n",
    "print(a)\n",
    "print(a[[4,2,7,1]])#提取特定的子序列，用整数表示即可\n",
    "print(a[[-1,-2,-3]])#从末尾开始提取\n",
    "b = np.arange(32)\n",
    "b = b.reshape((8,4))\n",
    "print(b)\n",
    "print(b[[1,3,5,7],[0,1,2,3]])#从b中的1，3，5，7个元素中，分别提取第0，1，2，3个数值\n",
    "print(b[[1,2,3,4]][:,[3,2,1,0]])#取b中1，2，3，4个元素的所有列，然后给予没个位置赋值，顺序为数列中的数值位的[3,2,1,0]"
   ]
  },
  {
   "cell_type": "code",
   "execution_count": null,
   "metadata": {},
   "outputs": [],
   "source": []
  },
  {
   "cell_type": "code",
   "execution_count": null,
   "metadata": {},
   "outputs": [],
   "source": []
  }
 ],
 "metadata": {
  "kernelspec": {
   "display_name": "Python 3",
   "language": "python",
   "name": "python3"
  },
  "language_info": {
   "codemirror_mode": {
    "name": "ipython",
    "version": 3
   },
   "file_extension": ".py",
   "mimetype": "text/x-python",
   "name": "python",
   "nbconvert_exporter": "python",
   "pygments_lexer": "ipython3",
   "version": "3.6.6"
  }
 },
 "nbformat": 4,
 "nbformat_minor": 2
}
