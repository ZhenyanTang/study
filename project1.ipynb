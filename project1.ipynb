{
 "cells": [
  {
   "cell_type": "code",
   "execution_count": 88,
   "metadata": {},
   "outputs": [],
   "source": [
    "file = open('/Users/cheif_tang/Desktop/text.txt','r')\n",
    "text = file.readlines()#list\n",
    "text_lines = ''"
   ]
  },
  {
   "cell_type": "code",
   "execution_count": 89,
   "metadata": {},
   "outputs": [],
   "source": [
    "# 创建string\n",
    "for line in text:\n",
    "    line = line.strip()\n",
    "    if line == 0:\n",
    "        continue\n",
    "    text_lines = text_lines + line\n"
   ]
  },
  {
   "cell_type": "code",
   "execution_count": 90,
   "metadata": {},
   "outputs": [],
   "source": [
    "#算每个字符出现多少次\n",
    "def count(string):\n",
    "    res={}\n",
    "    for i in string:\n",
    "        if i not in res:\n",
    "            res[i] = 1\n",
    "        else:\n",
    "            res[i] += 1\n",
    "    return res\n"
   ]
  },
  {
   "cell_type": "code",
   "execution_count": 91,
   "metadata": {},
   "outputs": [
    {
     "data": {
      "text/plain": [
       "{'S': 45,\n",
       " 'k': 18,\n",
       " 'i': 151,\n",
       " 'p': 52,\n",
       " ' ': 336,\n",
       " 't': 232,\n",
       " 'o': 226,\n",
       " 'c': 70,\n",
       " 'n': 203,\n",
       " 'e': 255,\n",
       " 'P': 60,\n",
       " 'y': 81,\n",
       " 'h': 85,\n",
       " 'F': 12,\n",
       " 'D': 23,\n",
       " 's': 135,\n",
       " 'I': 15,\n",
       " 'J': 3,\n",
       " 'b': 28,\n",
       " 'C': 15,\n",
       " 'm': 63,\n",
       " 'u': 73,\n",
       " 'a': 165,\n",
       " 'r': 148,\n",
       " 'T': 9,\n",
       " 'G': 15,\n",
       " 'O': 8,\n",
       " 'l': 82,\n",
       " 'z': 1,\n",
       " 'A': 18,\n",
       " 'w': 38,\n",
       " 'd': 73,\n",
       " 'N': 10,\n",
       " 'E': 14,\n",
       " 'v': 40,\n",
       " '>': 7,\n",
       " '_': 1,\n",
       " 'L': 11,\n",
       " 'g': 47,\n",
       " 'q': 1,\n",
       " 'f': 28,\n",
       " '.': 22,\n",
       " 'M': 10,\n",
       " 'W': 10,\n",
       " \"'\": 7,\n",
       " 'x': 3,\n",
       " ',': 23,\n",
       " 'B': 10,\n",
       " '’': 3,\n",
       " '!': 1,\n",
       " ':': 7,\n",
       " '3': 14,\n",
       " '8': 4,\n",
       " '2': 38,\n",
       " '?': 3,\n",
       " '-': 25,\n",
       " 'j': 5,\n",
       " '0': 38,\n",
       " '1': 4,\n",
       " '7': 4,\n",
       " '4': 4,\n",
       " 'U': 7,\n",
       " '6': 2,\n",
       " '9': 1,\n",
       " '(': 1,\n",
       " ')': 1,\n",
       " '5': 1,\n",
       " '…': 1,\n",
       " 'Q': 3,\n",
       " 'K': 1,\n",
       " 'R': 5,\n",
       " 'H': 3,\n",
       " 'X': 1,\n",
       " '/': 1,\n",
       " 'V': 1,\n",
       " '&': 1,\n",
       " '©': 1}"
      ]
     },
     "execution_count": 91,
     "metadata": {},
     "output_type": "execute_result"
    }
   ],
   "source": [
    "count(text_lines)"
   ]
  },
  {
   "cell_type": "code",
   "execution_count": null,
   "metadata": {},
   "outputs": [],
   "source": []
  }
 ],
 "metadata": {
  "kernelspec": {
   "display_name": "Python 3",
   "language": "python",
   "name": "python3"
  },
  "language_info": {
   "codemirror_mode": {
    "name": "ipython",
    "version": 3
   },
   "file_extension": ".py",
   "mimetype": "text/x-python",
   "name": "python",
   "nbconvert_exporter": "python",
   "pygments_lexer": "ipython3",
   "version": "3.6.6"
  }
 },
 "nbformat": 4,
 "nbformat_minor": 2
}
