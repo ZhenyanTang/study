{
 "cells": [
  {
   "cell_type": "code",
   "execution_count": 173,
   "metadata": {},
   "outputs": [
    {
     "name": "stdout",
     "output_type": "stream",
     "text": [
      "<_io.TextIOWrapper name='/Users/cheif_tang/Desktop/text.txt' mode='r' encoding='UTF-8'>\n"
     ]
    }
   ],
   "source": [
    "file = open('/Users/cheif_tang/Desktop/text.txt','r')\n",
    "text = file.readlines()#list\n",
    "text_lines = ''"
   ]
  },
  {
   "cell_type": "code",
   "execution_count": 174,
   "metadata": {},
   "outputs": [
    {
     "name": "stdout",
     "output_type": "stream",
     "text": [
      "skip to contentpythonpsfdocspypijobscommunitypythondonate  search this sitesearchgosocializeaboutdownloadsdocumentationcommunitysuccess storiesnewsevents>_ launch interactive shellpython is a programming language that lets you work quicklyand integrate systems more effectively. learn moreget startedwhether you're new to programming or an experienced developer, it's easy to learn and use python.start with our beginner’s guidedownloadpython source code and installers are available for download for all versions!latest: python 3.8.2docsdocumentation for python's standard library, along with tutorials and guides, are available online.docs.python.orgjobslooking for work or have a python related position that you're trying to hire for? our relaunched community-run job board is the place to go.jobs.python.orglatest newsmore2020-03-10python 3.7.7 is now available2020-03-04an update pypi funded work2020-03-04python 3.7.7rc1 is now available for testing2020-02-26python 3.8.2 and 3.9.0a4 are now available2020-02-18python 3.8.2rc2 is now available for testingupcoming eventsmore2020-03-22pyweek games programming contest2020-03-22python for signal processing algorithms implementation (tamilnadu)2020-03-24python lightning talks2020-03-25python adelaide user group2020-03-26python weekend abujasuccess storiesmorewhen an open data standard is created and promoted, it’s important to think why - what change is this trying to drive? what will people do with this data that they couldn’t do before?saving the world with open data and python by james basteruse python for…moreweb development: django, pyramid, bottle, tornado, flask, web2pygui development: tkinter, pygobject, pyqt, pyside, kivy, wxpythonscientific and numeric: scipy, pandas, ipythonsoftware development: buildbot, trac, roundupsystem administration: ansible, salt, openstack>>> python enhancement proposals: the future of python  rss>>> python software foundationthe mission of the python software foundation is to promote, protect, and advance the python programming language, and to support and facilitate the growth of a diverse and international community of python programmers. learn morebecome a member donate to the psfaboutapplicationsquotesgetting startedhelppython brochuredownloadsall releasessource codewindowsmac os xother platformslicensealternative implementationsdocumentationdocsaudio/visual talksbeginner's guidedeveloper's guidefaqnon-english docspep indexpython bookspython essayscommunitycommunity surveydiversitymailing listsircforumspsf annual impact reportpython conferencesspecial interest groupspython logopython wikimerchandisecommunity awardscode of conductsuccess storiesartsbusinesseducationengineeringgovernmentscientificsoftware developmentnewspython newspsf newslettercommunity newspsf newspycon newseventspython eventsuser group eventspython events archiveuser group events archivesubmit an eventcontributingdeveloper's guideissue trackerpython-dev listcore mentorshipreport a security issuehelp & general contactdiversity initiativessubmit website bugstatuscopyright ©2001-2020.  python software foundation  legal statements  privacy policy  powered by heroku\n"
     ]
    }
   ],
   "source": [
    "# 创建string\n",
    "for line in text:\n",
    "    line = line.strip()#去除空格\n",
    "    if line == 0:\n",
    "        continue\n",
    "    text_lines = (text_lines + line).lower()#变成小写\n",
    "print(text_lines)"
   ]
  },
  {
   "cell_type": "code",
   "execution_count": 161,
   "metadata": {},
   "outputs": [],
   "source": [
    "#过滤出特定字母\n",
    "def CharFilter(string):\n",
    "    form = 'abcdefghijklmnopqrstuvwxyz0123456789'\n",
    "    for j in string:\n",
    "        if not j in form:\n",
    "            string = string.replace(j,'');\n",
    "    return string\n",
    "            \n"
   ]
  },
  {
   "cell_type": "code",
   "execution_count": 162,
   "metadata": {},
   "outputs": [],
   "source": [
    "#算每个字符出现多少次\n",
    "def count(string):\n",
    "    res={}\n",
    "    for i in string:\n",
    "        if i not in res:\n",
    "            res[i] = 1\n",
    "        else:\n",
    "            res[i] += 1\n",
    "    return res"
   ]
  },
  {
   "cell_type": "code",
   "execution_count": 175,
   "metadata": {},
   "outputs": [
    {
     "name": "stdout",
     "output_type": "stream",
     "text": [
      "skiptocontentpythonpsfdocspypijobscommunitypythondonatesearchthissitesearchgosocializeaboutdownloadsdocumentationcommunitysuccessstoriesnewseventslaunchinteractiveshellpythonisaprogramminglanguagethatletsyouworkquicklyandintegratesystemsmoreeffectivelylearnmoregetstartedwhetheryourenewtoprogrammingoranexperienceddeveloperitseasytolearnandusepythonstartwithourbeginnersguidedownloadpythonsourcecodeandinstallersareavailablefordownloadforallversionslatestpython382docsdocumentationforpythonsstandardlibraryalongwithtutorialsandguidesareavailableonlinedocspythonorgjobslookingforworkorhaveapythonrelatedpositionthatyouretryingtohireforourrelaunchedcommunityrunjobboardistheplacetogojobspythonorglatestnewsmore20200310python377isnowavailable20200304anupdatepypifundedwork20200304python377rc1isnowavailablefortesting20200226python382and390a4arenowavailable20200218python382rc2isnowavailablefortestingupcomingeventsmore20200322pyweekgamesprogrammingcontest20200322pythonforsignalprocessingalgorithmsimplementationtamilnadu20200324pythonlightningtalks20200325pythonadelaideusergroup20200326pythonweekendabujasuccessstoriesmorewhenanopendatastandardiscreatedandpromoteditsimportanttothinkwhywhatchangeisthistryingtodrivewhatwillpeopledowiththisdatathattheycouldntdobeforesavingtheworldwithopendataandpythonbyjamesbasterusepythonformorewebdevelopmentdjangopyramidbottletornadoflaskweb2pyguidevelopmenttkinterpygobjectpyqtpysidekivywxpythonscientificandnumericscipypandasipythonsoftwaredevelopmentbuildbottracroundupsystemadministrationansiblesaltopenstackpythonenhancementproposalsthefutureofpythonrsspythonsoftwarefoundationthemissionofthepythonsoftwarefoundationistopromoteprotectandadvancethepythonprogramminglanguageandtosupportandfacilitatethegrowthofadiverseandinternationalcommunityofpythonprogrammerslearnmorebecomeamemberdonatetothepsfaboutapplicationsquotesgettingstartedhelppythonbrochuredownloadsallreleasessourcecodewindowsmacosxotherplatformslicensealternativeimplementationsdocumentationdocsaudiovisualtalksbeginnersguidedevelopersguidefaqnonenglishdocspepindexpythonbookspythonessayscommunitycommunitysurveydiversitymailinglistsircforumspsfannualimpactreportpythonconferencesspecialinterestgroupspythonlogopythonwikimerchandisecommunityawardscodeofconductsuccessstoriesartsbusinesseducationengineeringgovernmentscientificsoftwaredevelopmentnewspythonnewspsfnewslettercommunitynewspsfnewspyconnewseventspythoneventsusergroupeventspythoneventsarchiveusergroupeventsarchivesubmitaneventcontributingdevelopersguideissuetrackerpythondevlistcorementorshipreportasecurityissuehelpgeneralcontactdiversityinitiativessubmitwebsitebugstatuscopyright20012020pythonsoftwarefoundationlegalstatementsprivacypolicypoweredbyheroku\n"
     ]
    }
   ],
   "source": [
    "filtered_lines=CharFilter(text_lines)\n",
    "print(filtered_lines)"
   ]
  },
  {
   "cell_type": "code",
   "execution_count": 172,
   "metadata": {},
   "outputs": [
    {
     "data": {
      "text/plain": [
       "{'s': 180,\n",
       " 'k': 19,\n",
       " 'i': 166,\n",
       " 'p': 112,\n",
       " 't': 241,\n",
       " 'o': 234,\n",
       " 'c': 85,\n",
       " 'n': 213,\n",
       " 'e': 269,\n",
       " 'y': 81,\n",
       " 'h': 88,\n",
       " 'f': 40,\n",
       " 'd': 96,\n",
       " 'j': 8,\n",
       " 'b': 38,\n",
       " 'm': 73,\n",
       " 'u': 80,\n",
       " 'a': 183,\n",
       " 'r': 153,\n",
       " 'g': 62,\n",
       " 'l': 93,\n",
       " 'z': 1,\n",
       " 'w': 48,\n",
       " 'v': 41,\n",
       " 'q': 4,\n",
       " 'x': 4,\n",
       " '3': 14,\n",
       " '8': 4,\n",
       " '2': 38,\n",
       " '0': 38,\n",
       " '1': 4,\n",
       " '7': 4,\n",
       " '4': 4,\n",
       " '6': 2,\n",
       " '9': 1,\n",
       " '5': 1}"
      ]
     },
     "execution_count": 172,
     "metadata": {},
     "output_type": "execute_result"
    }
   ],
   "source": [
    "count(filtered_lines)"
   ]
  },
  {
   "cell_type": "code",
   "execution_count": null,
   "metadata": {},
   "outputs": [],
   "source": []
  }
 ],
 "metadata": {
  "kernelspec": {
   "display_name": "Python 3",
   "language": "python",
   "name": "python3"
  },
  "language_info": {
   "codemirror_mode": {
    "name": "ipython",
    "version": 3
   },
   "file_extension": ".py",
   "mimetype": "text/x-python",
   "name": "python",
   "nbconvert_exporter": "python",
   "pygments_lexer": "ipython3",
   "version": "3.6.6"
  }
 },
 "nbformat": 4,
 "nbformat_minor": 2
}
