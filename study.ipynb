{
 "cells": [
  {
   "cell_type": "code",
   "execution_count": 63,
   "metadata": {},
   "outputs": [
    {
     "name": "stdout",
     "output_type": "stream",
     "text": [
      "[[ 1  2  3  4  5  6]\n",
      " [ 7  8  9 10 11 12]]\n",
      "[0 1 2 3]\n",
      "[ True  True  True False]\n",
      "[[0. 0. 0. 0. 0. 0. 0.]\n",
      " [0. 0. 0. 0. 0. 0. 0.]\n",
      " [0. 0. 0. 0. 0. 0. 0.]\n",
      " [0. 0. 0. 0. 0. 0. 0.]\n",
      " [0. 0. 0. 0. 0. 0. 0.]]\n"
     ]
    }
   ],
   "source": [
    "import numpy as np\n",
    "a = np.array([[1,2,3,4,5,6],[7,8,9,10,11,12]])#np array\n",
    "b = np.arange(4) #creat 0-4 array\n",
    "c = np.zeros((5,7))# 5row 7col zero martix\n",
    "print(a)\n",
    "print(b)\n",
    "print(b<=2)\n",
    "print(c)"
   ]
  },
  {
   "cell_type": "code",
   "execution_count": 64,
   "metadata": {},
   "outputs": [
    {
     "name": "stdout",
     "output_type": "stream",
     "text": [
      "[[0 1]\n",
      " [2 3]]\n"
     ]
    }
   ],
   "source": [
    "b = b.reshape(2,2)# reshape 2 col 2 row\n",
    "print(b)"
   ]
  },
  {
   "cell_type": "code",
   "execution_count": 65,
   "metadata": {},
   "outputs": [
    {
     "name": "stdout",
     "output_type": "stream",
     "text": [
      "[[198 329]\n",
      " [154 254]\n",
      " [ 40  72]]\n",
      "[[198 329]\n",
      " [154 254]\n",
      " [ 40  72]]\n"
     ]
    }
   ],
   "source": [
    "a = np.array([[32,99],[23,77],[12,20]])\n",
    "c = np.dot(a,b)#dot product\n",
    "c_2 = a.dot(b)\n",
    "print(c)\n",
    "print(c_2)"
   ]
  },
  {
   "cell_type": "code",
   "execution_count": 66,
   "metadata": {
    "scrolled": true
   },
   "outputs": [
    {
     "name": "stdout",
     "output_type": "stream",
     "text": [
      "[[0.0427342  0.03470798 0.43847642 0.10401154]\n",
      " [0.69274545 0.50973915 0.55550272 0.88907502]]\n",
      "3.2669924823483294\n",
      "0.889075017373585\n",
      "0.03470798123785568\n"
     ]
    }
   ],
   "source": [
    "a = np.random.random((2,4))# random array 2 raw 4 col\n",
    "print(a)\n",
    "print(np.sum(a))\n",
    "print(np.max(a))\n",
    "print(np.min(a))"
   ]
  },
  {
   "cell_type": "code",
   "execution_count": 67,
   "metadata": {
    "scrolled": true
   },
   "outputs": [
    {
     "name": "stdout",
     "output_type": "stream",
     "text": [
      "[[0.77242799 0.87646778 0.07635367 0.59965244]\n",
      " [0.58180146 0.53924247 0.70233722 0.83488296]\n",
      " [0.26148956 0.10232897 0.09448873 0.66664858]]\n",
      "[2 2 0 0]\n",
      "[1 3 3]\n",
      "[[0.07635367 0.59965244 0.77242799 0.87646778]\n",
      " [0.53924247 0.58180146 0.70233722 0.83488296]\n",
      " [0.09448873 0.10232897 0.26148956 0.66664858]]\n",
      "[[0.77242799 0.58180146 0.26148956]\n",
      " [0.87646778 0.53924247 0.10232897]\n",
      " [0.07635367 0.70233722 0.09448873]\n",
      " [0.59965244 0.83488296 0.66664858]]\n",
      "[0.77242799 1.64889577 1.72524944 2.32490188 2.90670334 3.44594581\n",
      " 4.14828303 4.98316599 5.24465555 5.34698452 5.44147326 6.10812184]\n",
      "[[ 0.10403979 -0.8001141   0.52329876]\n",
      " [-0.04255899  0.16309475  0.13254574]\n",
      " [-0.15916059 -0.00784024  0.57215985]]\n",
      "[[0.5        0.5        0.2        0.5       ]\n",
      " [0.5        0.5        0.5        0.5       ]\n",
      " [0.26148956 0.2        0.2        0.5       ]]\n"
     ]
    }
   ],
   "source": [
    "# numpy的索引和运算\n",
    "a = np.random.random((3,4))\n",
    "print(a)\n",
    "print(np.argmin(a,axis = 0))#每一列最小值的索引\n",
    "print(np.argmax(a,axis = 1))#每一行最大值的索引\n",
    "print(np.sort(a))\n",
    "print(np.transpose(a))#T\n",
    "print(np.cumsum(a))#累加\n",
    "print(np.diff(a))#差\n",
    "print(np.clip(a,0.2,0.5))#截取片段，0.2<x<0.5，如果大于0.5，则等于0.5。如果小于0.2，则等于0.2"
   ]
  },
  {
   "cell_type": "code",
   "execution_count": 88,
   "metadata": {},
   "outputs": [
    {
     "name": "stdout",
     "output_type": "stream",
     "text": [
      "[1 1 1]\n",
      "[2 2 2]\n",
      "[[1 1 1]\n",
      " [2 2 2]]\n",
      "[[1]\n",
      " [1]\n",
      " [1]]\n",
      "(3,)\n",
      "[[1 2]\n",
      " [1 2]\n",
      " [1 2]]\n",
      "[[1 2 2 1]\n",
      " [1 2 2 1]\n",
      " [1 2 2 1]]\n"
     ]
    }
   ],
   "source": [
    "#numpy array的合并\n",
    "\n",
    "a = np.array([1,1,1])\n",
    "b = np.array([2,2,2])\n",
    "print(a)\n",
    "print(b)\n",
    "print(np.vstack((a,b))) # vertical stack\n",
    "\n",
    "#a变成纵向列表\n",
    "#print(a[np.newaxis,:]) 在行上加维度\n",
    "print(a[:,np.newaxis]) #在列上加维度\n",
    "print(a.shape)\n",
    "\n",
    "#a,b变为纵向列表\n",
    "a = np.array([1,1,1])[:,np.newaxis]\n",
    "b = np.array([2,2,2])[:,np.newaxis]\n",
    "c = np.concatenate((a,b,b,a),axis=1)#多重合并，axis=0为vertical axis=1为horizontal\n",
    "print(np.hstack((a,b))) # horizontal stack\n",
    "print(c)\n"
   ]
  },
  {
   "cell_type": "code",
   "execution_count": 98,
   "metadata": {},
   "outputs": [
    {
     "name": "stdout",
     "output_type": "stream",
     "text": [
      "[[ 0  1  2  3]\n",
      " [ 4  5  6  7]\n",
      " [ 8  9 10 11]]\n",
      "[array([[0, 1, 2, 3]]), array([[4, 5, 6, 7]]), array([[ 8,  9, 10, 11]])]\n",
      "[array([[0],\n",
      "       [4],\n",
      "       [8]]), array([[1],\n",
      "       [5],\n",
      "       [9]]), array([[ 2],\n",
      "       [ 6],\n",
      "       [10]]), array([[ 3],\n",
      "       [ 7],\n",
      "       [11]])]\n",
      "[array([[0, 1],\n",
      "       [4, 5],\n",
      "       [8, 9]]), array([[ 2,  3],\n",
      "       [ 6,  7],\n",
      "       [10, 11]])]\n"
     ]
    }
   ],
   "source": [
    "#numpy array的分割\n",
    "a = np.arange(12)\n",
    "a = a.reshape((3,4))\n",
    "print(a)\n",
    "#横向分割\n",
    "print(np.split(a,3,axis=0))#axis=0 对row进行操作\n",
    "#纵向分割\n",
    "print(np.split(a,4,axis=1))#axis=1 对col进行操作，分成4份\n",
    "print(np.split(a,2,axis=1))#分成2份"
   ]
  },
  {
   "cell_type": "code",
   "execution_count": null,
   "metadata": {},
   "outputs": [],
   "source": []
  }
 ],
 "metadata": {
  "kernelspec": {
   "display_name": "Python 3",
   "language": "python",
   "name": "python3"
  },
  "language_info": {
   "codemirror_mode": {
    "name": "ipython",
    "version": 3
   },
   "file_extension": ".py",
   "mimetype": "text/x-python",
   "name": "python",
   "nbconvert_exporter": "python",
   "pygments_lexer": "ipython3",
   "version": "3.6.6"
  }
 },
 "nbformat": 4,
 "nbformat_minor": 2
}
